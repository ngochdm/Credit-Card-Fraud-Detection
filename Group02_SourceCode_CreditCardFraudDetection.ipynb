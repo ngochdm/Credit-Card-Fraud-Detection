{
 "cells": [
  {
   "cell_type": "markdown",
   "metadata": {},
   "source": [
    "# General\n",
    "\n",
    "## Group's information\n",
    "\n",
    "**Group 02**\n",
    "\n",
    "- 1753075 - Huynh Doan Minh Ngoc\n",
    "- 1753074 - Nguyen Kim Ngan\n",
    "- 1753086 - Tong Le Thien Phuc\n",
    "\n",
    "## Project's information\n",
    "\n",
    "**Topic: Credit Card Fraud Detection**\n",
    "\n",
    "In today's developing society, we are trending towards a cashless society. According to World Payments Report, in 2016, there is a 10.1% increase in total non-cash transaction in comparision to the previous year. However, along with moving away from paying in cash, comes a huge problem: **Credit card fraud**. Even with EMV smart chips, we still suffered massive loss due to credit card fraud. Our project will try and build a model to prevent this crime and therefore limit the loss.\n",
    "\n",
    "## Import libraries"
   ]
  },
  {
   "cell_type": "code",
   "execution_count": 1,
   "metadata": {},
   "outputs": [],
   "source": [
    "%matplotlib inline\n",
    "import scipy.stats as stats\n",
    "import numpy as np\n",
    "import pandas as pd\n",
    "import matplotlib.pyplot as plt\n",
    "import seaborn as sns\n",
    "from sklearn.preprocessing import StandardScaler\n",
    "from sklearn.model_selection import train_test_split\n",
    "from imblearn.under_sampling import RandomUnderSampler\n",
    "from sklearn import linear_model\n",
    "from sklearn.model_selection import GridSearchCV\n",
    "from sklearn.naive_bayes import GaussianNB\n",
    "import sklearn.metrics as metrics\n",
    "from sklearn.metrics import confusion_matrix\n",
    "from sklearn.metrics import precision_score, recall_score, precision_recall_curve,f1_score, fbeta_score, accuracy_score\n",
    "\n",
    "plt.style.use('ggplot')"
   ]
  },
  {
   "cell_type": "markdown",
   "metadata": {},
   "source": [
    "# Dataset\n",
    "\n",
    "## Kaggle dataset"
   ]
  },
  {
   "cell_type": "code",
   "execution_count": 2,
   "metadata": {},
   "outputs": [],
   "source": [
    "df = pd.read_csv('creditcard.csv')"
   ]
  },
  {
   "cell_type": "markdown",
   "metadata": {},
   "source": [
    "According to [https://www.kaggle.com/mlg-ulb/creditcardfraud]: \n",
    "\n",
    "The garthered dataset from Kaggle dataset contains 284,807 rows of data and 31 columns. Out of all the columns, the only ones that made the most sense were Time, Amount, and Class (fraud or not fraud). The other 28 columns were transformed using what seems to be a PCA dimensionality reduction in order to protect user identities.\n",
    "\n",
    "- Time: Number of seconds elapsed between this transaction and the first transaction in the dataset.\n",
    "- V1 - V28: Result of a PCA Dimensionality reduction to protect user identities and sensitive features\n",
    "- Amount: Transaction amount\n",
    "- Class: 1 for fraudulent transactions, 0 otherwise\n",
    "\n",
    "The data itself is short in terms of time (it’s only 2 days long), and these transactions were made by European cardholders.\n",
    "\n",
    "The datatype of Class attribute is int64, while datatype of other attributes are float64."
   ]
  },
  {
   "cell_type": "code",
   "execution_count": 3,
   "metadata": {},
   "outputs": [
    {
     "data": {
      "text/html": [
       "<div>\n",
       "<style scoped>\n",
       "    .dataframe tbody tr th:only-of-type {\n",
       "        vertical-align: middle;\n",
       "    }\n",
       "\n",
       "    .dataframe tbody tr th {\n",
       "        vertical-align: top;\n",
       "    }\n",
       "\n",
       "    .dataframe thead th {\n",
       "        text-align: right;\n",
       "    }\n",
       "</style>\n",
       "<table border=\"1\" class=\"dataframe\">\n",
       "  <thead>\n",
       "    <tr style=\"text-align: right;\">\n",
       "      <th></th>\n",
       "      <th>Time</th>\n",
       "      <th>V1</th>\n",
       "      <th>V2</th>\n",
       "      <th>V3</th>\n",
       "      <th>V4</th>\n",
       "      <th>V5</th>\n",
       "      <th>V6</th>\n",
       "      <th>V7</th>\n",
       "      <th>V8</th>\n",
       "      <th>V9</th>\n",
       "      <th>...</th>\n",
       "      <th>V21</th>\n",
       "      <th>V22</th>\n",
       "      <th>V23</th>\n",
       "      <th>V24</th>\n",
       "      <th>V25</th>\n",
       "      <th>V26</th>\n",
       "      <th>V27</th>\n",
       "      <th>V28</th>\n",
       "      <th>Amount</th>\n",
       "      <th>Class</th>\n",
       "    </tr>\n",
       "  </thead>\n",
       "  <tbody>\n",
       "    <tr>\n",
       "      <th>52294</th>\n",
       "      <td>45373.0</td>\n",
       "      <td>-0.404641</td>\n",
       "      <td>1.829298</td>\n",
       "      <td>-2.896526</td>\n",
       "      <td>1.728191</td>\n",
       "      <td>0.751352</td>\n",
       "      <td>-1.954853</td>\n",
       "      <td>-0.061071</td>\n",
       "      <td>0.661953</td>\n",
       "      <td>-0.298101</td>\n",
       "      <td>...</td>\n",
       "      <td>-0.143361</td>\n",
       "      <td>-0.411362</td>\n",
       "      <td>-0.012107</td>\n",
       "      <td>-0.469465</td>\n",
       "      <td>-0.361529</td>\n",
       "      <td>-0.360286</td>\n",
       "      <td>0.191568</td>\n",
       "      <td>-0.181713</td>\n",
       "      <td>1.00</td>\n",
       "      <td>0</td>\n",
       "    </tr>\n",
       "    <tr>\n",
       "      <th>257193</th>\n",
       "      <td>158047.0</td>\n",
       "      <td>1.987416</td>\n",
       "      <td>0.128298</td>\n",
       "      <td>-2.172227</td>\n",
       "      <td>1.110944</td>\n",
       "      <td>0.884338</td>\n",
       "      <td>-0.814837</td>\n",
       "      <td>0.770940</td>\n",
       "      <td>-0.368249</td>\n",
       "      <td>-0.037276</td>\n",
       "      <td>...</td>\n",
       "      <td>0.125253</td>\n",
       "      <td>0.285599</td>\n",
       "      <td>-0.049825</td>\n",
       "      <td>0.394707</td>\n",
       "      <td>0.474203</td>\n",
       "      <td>-0.499132</td>\n",
       "      <td>-0.049545</td>\n",
       "      <td>-0.052109</td>\n",
       "      <td>59.70</td>\n",
       "      <td>0</td>\n",
       "    </tr>\n",
       "    <tr>\n",
       "      <th>284513</th>\n",
       "      <td>172517.0</td>\n",
       "      <td>0.119225</td>\n",
       "      <td>0.625909</td>\n",
       "      <td>0.018752</td>\n",
       "      <td>-0.807711</td>\n",
       "      <td>0.642523</td>\n",
       "      <td>-0.307018</td>\n",
       "      <td>0.867567</td>\n",
       "      <td>-0.190325</td>\n",
       "      <td>0.377823</td>\n",
       "      <td>...</td>\n",
       "      <td>0.166851</td>\n",
       "      <td>0.718932</td>\n",
       "      <td>-0.187458</td>\n",
       "      <td>0.688035</td>\n",
       "      <td>0.031939</td>\n",
       "      <td>0.081678</td>\n",
       "      <td>-0.109334</td>\n",
       "      <td>-0.007698</td>\n",
       "      <td>18.39</td>\n",
       "      <td>0</td>\n",
       "    </tr>\n",
       "    <tr>\n",
       "      <th>91869</th>\n",
       "      <td>63663.0</td>\n",
       "      <td>-0.525772</td>\n",
       "      <td>0.864712</td>\n",
       "      <td>0.815513</td>\n",
       "      <td>0.726060</td>\n",
       "      <td>1.196290</td>\n",
       "      <td>1.342227</td>\n",
       "      <td>0.534479</td>\n",
       "      <td>0.129958</td>\n",
       "      <td>0.003803</td>\n",
       "      <td>...</td>\n",
       "      <td>-0.133895</td>\n",
       "      <td>0.009871</td>\n",
       "      <td>-0.396557</td>\n",
       "      <td>-1.711652</td>\n",
       "      <td>0.029663</td>\n",
       "      <td>-0.183639</td>\n",
       "      <td>-0.015289</td>\n",
       "      <td>-0.037630</td>\n",
       "      <td>2.49</td>\n",
       "      <td>0</td>\n",
       "    </tr>\n",
       "    <tr>\n",
       "      <th>241011</th>\n",
       "      <td>150844.0</td>\n",
       "      <td>-1.810983</td>\n",
       "      <td>0.186741</td>\n",
       "      <td>0.627387</td>\n",
       "      <td>-2.592124</td>\n",
       "      <td>-2.108083</td>\n",
       "      <td>0.271935</td>\n",
       "      <td>-1.546917</td>\n",
       "      <td>0.994493</td>\n",
       "      <td>-1.593207</td>\n",
       "      <td>...</td>\n",
       "      <td>0.028089</td>\n",
       "      <td>0.163747</td>\n",
       "      <td>-0.019846</td>\n",
       "      <td>0.566233</td>\n",
       "      <td>-0.431432</td>\n",
       "      <td>-0.355103</td>\n",
       "      <td>-0.985877</td>\n",
       "      <td>-0.278894</td>\n",
       "      <td>56.40</td>\n",
       "      <td>0</td>\n",
       "    </tr>\n",
       "    <tr>\n",
       "      <th>67288</th>\n",
       "      <td>52457.0</td>\n",
       "      <td>0.800632</td>\n",
       "      <td>-0.695180</td>\n",
       "      <td>0.178351</td>\n",
       "      <td>0.769166</td>\n",
       "      <td>-0.605204</td>\n",
       "      <td>-0.035301</td>\n",
       "      <td>-0.019530</td>\n",
       "      <td>0.178089</td>\n",
       "      <td>0.321476</td>\n",
       "      <td>...</td>\n",
       "      <td>-0.034557</td>\n",
       "      <td>-0.505330</td>\n",
       "      <td>-0.102110</td>\n",
       "      <td>0.008064</td>\n",
       "      <td>0.195006</td>\n",
       "      <td>0.259332</td>\n",
       "      <td>-0.065797</td>\n",
       "      <td>0.026743</td>\n",
       "      <td>191.31</td>\n",
       "      <td>0</td>\n",
       "    </tr>\n",
       "    <tr>\n",
       "      <th>44295</th>\n",
       "      <td>41880.0</td>\n",
       "      <td>1.233970</td>\n",
       "      <td>0.005673</td>\n",
       "      <td>-0.073121</td>\n",
       "      <td>-0.183386</td>\n",
       "      <td>0.085876</td>\n",
       "      <td>-0.135291</td>\n",
       "      <td>0.090679</td>\n",
       "      <td>-0.058649</td>\n",
       "      <td>-0.121108</td>\n",
       "      <td>...</td>\n",
       "      <td>-0.013405</td>\n",
       "      <td>0.165046</td>\n",
       "      <td>-0.129251</td>\n",
       "      <td>-0.164021</td>\n",
       "      <td>0.526075</td>\n",
       "      <td>1.149626</td>\n",
       "      <td>-0.076404</td>\n",
       "      <td>-0.021147</td>\n",
       "      <td>9.14</td>\n",
       "      <td>0</td>\n",
       "    </tr>\n",
       "    <tr>\n",
       "      <th>273274</th>\n",
       "      <td>165519.0</td>\n",
       "      <td>2.034896</td>\n",
       "      <td>-0.091119</td>\n",
       "      <td>-1.175147</td>\n",
       "      <td>0.211968</td>\n",
       "      <td>0.137982</td>\n",
       "      <td>-0.607890</td>\n",
       "      <td>0.083610</td>\n",
       "      <td>-0.161093</td>\n",
       "      <td>0.248977</td>\n",
       "      <td>...</td>\n",
       "      <td>-0.249496</td>\n",
       "      <td>-0.594069</td>\n",
       "      <td>0.290059</td>\n",
       "      <td>-0.385798</td>\n",
       "      <td>-0.287484</td>\n",
       "      <td>0.202833</td>\n",
       "      <td>-0.069385</td>\n",
       "      <td>-0.073329</td>\n",
       "      <td>1.29</td>\n",
       "      <td>0</td>\n",
       "    </tr>\n",
       "    <tr>\n",
       "      <th>196389</th>\n",
       "      <td>131482.0</td>\n",
       "      <td>-0.531795</td>\n",
       "      <td>0.245213</td>\n",
       "      <td>-0.499771</td>\n",
       "      <td>-0.380182</td>\n",
       "      <td>1.644246</td>\n",
       "      <td>0.112963</td>\n",
       "      <td>0.603881</td>\n",
       "      <td>-0.229368</td>\n",
       "      <td>0.540828</td>\n",
       "      <td>...</td>\n",
       "      <td>-0.041565</td>\n",
       "      <td>0.454061</td>\n",
       "      <td>0.453824</td>\n",
       "      <td>-1.001190</td>\n",
       "      <td>-2.479336</td>\n",
       "      <td>-0.045914</td>\n",
       "      <td>-0.079880</td>\n",
       "      <td>0.358457</td>\n",
       "      <td>1.79</td>\n",
       "      <td>0</td>\n",
       "    </tr>\n",
       "    <tr>\n",
       "      <th>232597</th>\n",
       "      <td>147231.0</td>\n",
       "      <td>1.033388</td>\n",
       "      <td>-2.700248</td>\n",
       "      <td>-2.450838</td>\n",
       "      <td>-0.430787</td>\n",
       "      <td>-0.848674</td>\n",
       "      <td>-0.788803</td>\n",
       "      <td>0.634253</td>\n",
       "      <td>-0.435596</td>\n",
       "      <td>-0.707322</td>\n",
       "      <td>...</td>\n",
       "      <td>0.572676</td>\n",
       "      <td>0.294575</td>\n",
       "      <td>-0.557033</td>\n",
       "      <td>-0.278497</td>\n",
       "      <td>0.055791</td>\n",
       "      <td>-0.104898</td>\n",
       "      <td>-0.180607</td>\n",
       "      <td>0.016985</td>\n",
       "      <td>625.00</td>\n",
       "      <td>0</td>\n",
       "    </tr>\n",
       "  </tbody>\n",
       "</table>\n",
       "<p>10 rows × 31 columns</p>\n",
       "</div>"
      ],
      "text/plain": [
       "            Time        V1        V2        V3        V4        V5        V6  \\\n",
       "52294    45373.0 -0.404641  1.829298 -2.896526  1.728191  0.751352 -1.954853   \n",
       "257193  158047.0  1.987416  0.128298 -2.172227  1.110944  0.884338 -0.814837   \n",
       "284513  172517.0  0.119225  0.625909  0.018752 -0.807711  0.642523 -0.307018   \n",
       "91869    63663.0 -0.525772  0.864712  0.815513  0.726060  1.196290  1.342227   \n",
       "241011  150844.0 -1.810983  0.186741  0.627387 -2.592124 -2.108083  0.271935   \n",
       "67288    52457.0  0.800632 -0.695180  0.178351  0.769166 -0.605204 -0.035301   \n",
       "44295    41880.0  1.233970  0.005673 -0.073121 -0.183386  0.085876 -0.135291   \n",
       "273274  165519.0  2.034896 -0.091119 -1.175147  0.211968  0.137982 -0.607890   \n",
       "196389  131482.0 -0.531795  0.245213 -0.499771 -0.380182  1.644246  0.112963   \n",
       "232597  147231.0  1.033388 -2.700248 -2.450838 -0.430787 -0.848674 -0.788803   \n",
       "\n",
       "              V7        V8        V9  ...       V21       V22       V23  \\\n",
       "52294  -0.061071  0.661953 -0.298101  ... -0.143361 -0.411362 -0.012107   \n",
       "257193  0.770940 -0.368249 -0.037276  ...  0.125253  0.285599 -0.049825   \n",
       "284513  0.867567 -0.190325  0.377823  ...  0.166851  0.718932 -0.187458   \n",
       "91869   0.534479  0.129958  0.003803  ... -0.133895  0.009871 -0.396557   \n",
       "241011 -1.546917  0.994493 -1.593207  ...  0.028089  0.163747 -0.019846   \n",
       "67288  -0.019530  0.178089  0.321476  ... -0.034557 -0.505330 -0.102110   \n",
       "44295   0.090679 -0.058649 -0.121108  ... -0.013405  0.165046 -0.129251   \n",
       "273274  0.083610 -0.161093  0.248977  ... -0.249496 -0.594069  0.290059   \n",
       "196389  0.603881 -0.229368  0.540828  ... -0.041565  0.454061  0.453824   \n",
       "232597  0.634253 -0.435596 -0.707322  ...  0.572676  0.294575 -0.557033   \n",
       "\n",
       "             V24       V25       V26       V27       V28  Amount  Class  \n",
       "52294  -0.469465 -0.361529 -0.360286  0.191568 -0.181713    1.00      0  \n",
       "257193  0.394707  0.474203 -0.499132 -0.049545 -0.052109   59.70      0  \n",
       "284513  0.688035  0.031939  0.081678 -0.109334 -0.007698   18.39      0  \n",
       "91869  -1.711652  0.029663 -0.183639 -0.015289 -0.037630    2.49      0  \n",
       "241011  0.566233 -0.431432 -0.355103 -0.985877 -0.278894   56.40      0  \n",
       "67288   0.008064  0.195006  0.259332 -0.065797  0.026743  191.31      0  \n",
       "44295  -0.164021  0.526075  1.149626 -0.076404 -0.021147    9.14      0  \n",
       "273274 -0.385798 -0.287484  0.202833 -0.069385 -0.073329    1.29      0  \n",
       "196389 -1.001190 -2.479336 -0.045914 -0.079880  0.358457    1.79      0  \n",
       "232597 -0.278497  0.055791 -0.104898 -0.180607  0.016985  625.00      0  \n",
       "\n",
       "[10 rows x 31 columns]"
      ]
     },
     "execution_count": 3,
     "metadata": {},
     "output_type": "execute_result"
    }
   ],
   "source": [
    "df.sample(10)"
   ]
  },
  {
   "cell_type": "code",
   "execution_count": 4,
   "metadata": {},
   "outputs": [
    {
     "data": {
      "text/html": [
       "<div>\n",
       "<style scoped>\n",
       "    .dataframe tbody tr th:only-of-type {\n",
       "        vertical-align: middle;\n",
       "    }\n",
       "\n",
       "    .dataframe tbody tr th {\n",
       "        vertical-align: top;\n",
       "    }\n",
       "\n",
       "    .dataframe thead th {\n",
       "        text-align: right;\n",
       "    }\n",
       "</style>\n",
       "<table border=\"1\" class=\"dataframe\">\n",
       "  <thead>\n",
       "    <tr style=\"text-align: right;\">\n",
       "      <th></th>\n",
       "      <th>Time</th>\n",
       "      <th>Amount</th>\n",
       "    </tr>\n",
       "  </thead>\n",
       "  <tbody>\n",
       "    <tr>\n",
       "      <th>count</th>\n",
       "      <td>284807.000000</td>\n",
       "      <td>284807.000000</td>\n",
       "    </tr>\n",
       "    <tr>\n",
       "      <th>mean</th>\n",
       "      <td>94813.859575</td>\n",
       "      <td>88.349619</td>\n",
       "    </tr>\n",
       "    <tr>\n",
       "      <th>std</th>\n",
       "      <td>47488.145955</td>\n",
       "      <td>250.120109</td>\n",
       "    </tr>\n",
       "    <tr>\n",
       "      <th>min</th>\n",
       "      <td>0.000000</td>\n",
       "      <td>0.000000</td>\n",
       "    </tr>\n",
       "    <tr>\n",
       "      <th>25%</th>\n",
       "      <td>54201.500000</td>\n",
       "      <td>5.600000</td>\n",
       "    </tr>\n",
       "    <tr>\n",
       "      <th>50%</th>\n",
       "      <td>84692.000000</td>\n",
       "      <td>22.000000</td>\n",
       "    </tr>\n",
       "    <tr>\n",
       "      <th>75%</th>\n",
       "      <td>139320.500000</td>\n",
       "      <td>77.165000</td>\n",
       "    </tr>\n",
       "    <tr>\n",
       "      <th>max</th>\n",
       "      <td>172792.000000</td>\n",
       "      <td>25691.160000</td>\n",
       "    </tr>\n",
       "  </tbody>\n",
       "</table>\n",
       "</div>"
      ],
      "text/plain": [
       "                Time         Amount\n",
       "count  284807.000000  284807.000000\n",
       "mean    94813.859575      88.349619\n",
       "std     47488.145955     250.120109\n",
       "min         0.000000       0.000000\n",
       "25%     54201.500000       5.600000\n",
       "50%     84692.000000      22.000000\n",
       "75%    139320.500000      77.165000\n",
       "max    172792.000000   25691.160000"
      ]
     },
     "execution_count": 4,
     "metadata": {},
     "output_type": "execute_result"
    }
   ],
   "source": [
    "#numerical summary -> only non-anonymized columns of interest\n",
    "df.loc[:, ['Time', 'Amount']].describe()"
   ]
  },
  {
   "cell_type": "markdown",
   "metadata": {},
   "source": [
    "## Exploratory data analysis\n",
    "\n",
    "### Time Distribution"
   ]
  },
  {
   "cell_type": "code",
   "execution_count": 5,
   "metadata": {},
   "outputs": [
    {
     "name": "stdout",
     "output_type": "stream",
     "text": [
      "Time Distribution of Credit Card Data\n"
     ]
    },
    {
     "data": {
      "image/png": "[encoded data removed]",
      "text/plain": [
       "<Figure size 432x288 with 1 Axes>"
      ]
     },
     "metadata": {},
     "output_type": "display_data"
    }
   ],
   "source": [
    "print(\"Time Distribution of Credit Card Data\")\n",
    "sns.distplot(df['Time'], color = 'blue');"
   ]
  },
  {
   "cell_type": "markdown",
   "metadata": {},
   "source": [
    "Given that this distribution s two day's worth of data, it can be clearly seen that most purchases are made during the daylight hours. The purchasing dwindles down until the next day.\n",
    "\n",
    "### Amount Distribution"
   ]
  },
  {
   "cell_type": "code",
   "execution_count": 6,
   "metadata": {},
   "outputs": [
    {
     "name": "stdout",
     "output_type": "stream",
     "text": [
      "Amount Distribution of Credit Card Data\n"
     ]
    },
    {
     "data": {
      "image/png": "[encoded data removed]",
      "text/plain": [
       "<Figure size 432x288 with 1 Axes>"
      ]
     },
     "metadata": {},
     "output_type": "display_data"
    }
   ],
   "source": [
    "print(\"Amount Distribution of Credit Card Data\")\n",
    "sns.distplot(df['Amount'], color = 'blue');"
   ]
  },
  {
   "cell_type": "markdown",
   "metadata": {},
   "source": [
    "Most daily transactions aren’t extremely expensive (most are < $50), but it’s likely where most fraudulent transactions are occurring as well.\n",
    "\n",
    "### Class"
   ]
  },
  {
   "cell_type": "code",
   "execution_count": 7,
   "metadata": {},
   "outputs": [
    {
     "name": "stdout",
     "output_type": "stream",
     "text": [
      "Fraudulent:492, Non-fraudulent:284315\n",
      "Ratio of fraud: 492/284807 (0.173%)\n"
     ]
    }
   ],
   "source": [
    "fraud = df['Class'].value_counts()[1]\n",
    "nonfraud = df['Class'].value_counts()[0]\n",
    "\n",
    "print(f'Fraudulent:{fraud}, Non-fraudulent:{nonfraud}')\n",
    "print(f'Ratio of fraud: {fraud}/{nonfraud+fraud} ({fraud / (nonfraud+fraud) * 100:.3f}%)')"
   ]
  },
  {
   "cell_type": "markdown",
   "metadata": {},
   "source": [
    "A quick glance at the output above, there were **492 fraud transactions of 284,807 transactions**, accounting for **0.173%**. So this project's goal is detect fraudster as much as possible."
   ]
  },
  {
   "cell_type": "code",
   "execution_count": 8,
   "metadata": {},
   "outputs": [
    {
     "name": "stdout",
     "output_type": "stream",
     "text": [
      "Total amount of fraud transactions: $60127.97\n",
      "Ratio of amount of fraud transactions: 0.002389577939953885\n"
     ]
    }
   ],
   "source": [
    "df_fraud = df.loc[df['Class'] == 1]\n",
    "total_amount_fraud = df_fraud['Amount'].sum()\n",
    "print(\"Total amount of fraud transactions: $\" + str(total_amount_fraud))\n",
    "\n",
    "total_amount = df['Amount'].sum()\n",
    "print('Ratio of amount of fraud transactions: ' + str(total_amount_fraud/total_amount))"
   ]
  },
  {
   "cell_type": "markdown",
   "metadata": {},
   "source": [
    "Amount of fraud transactions accounts for **0.24%** of total amount. However, **nearly 60,128 dollars** is not a smalle value."
   ]
  },
  {
   "cell_type": "code",
   "execution_count": 9,
   "metadata": {},
   "outputs": [
    {
     "data": {
      "image/png": "[encoded data removed]",
      "text/plain": [
       "<Figure size 432x288 with 1 Axes>"
      ]
     },
     "metadata": {},
     "output_type": "display_data"
    }
   ],
   "source": [
    "#fraud vs. non-fraud transactions\n",
    "sns.barplot(x = df['Class'].value_counts().index, y = df['Class'].value_counts(), color = 'green')\n",
    "plt.title('Fraudulent vs. Non-Fraudulent Transactions')\n",
    "plt.ylabel('Count')\n",
    "plt.xlabel('0:Non-Fraudulent, 1:Fraudulent');"
   ]
  },
  {
   "cell_type": "markdown",
   "metadata": {},
   "source": [
    "### Finding highest correlations"
   ]
  },
  {
   "cell_type": "code",
   "execution_count": 10,
   "metadata": {},
   "outputs": [
    {
     "data": {
      "image/png": "[encoded data removed]",
      "text/plain": [
       "<Figure size 432x288 with 2 Axes>"
      ]
     },
     "metadata": {},
     "output_type": "display_data"
    }
   ],
   "source": [
    "#heatmap to find any high correlations\n",
    "sns.heatmap(data = df.corr(), cmap = \"seismic\", annot = False)\n",
    "plt.show();"
   ]
  },
  {
   "cell_type": "code",
   "execution_count": 11,
   "metadata": {
    "scrolled": false
   },
   "outputs": [
    {
     "name": "stdout",
     "output_type": "stream",
     "text": [
      "V22       0.000805\n",
      "V23       0.002685\n",
      "V25       0.003308\n",
      "V15       0.004223\n",
      "V26       0.004455\n",
      "V13       0.004570\n",
      "Amount    0.005632\n",
      "V24       0.007221\n",
      "V28       0.009536\n",
      "Time      0.012323\n",
      "V27       0.017580\n",
      "V8        0.019875\n",
      "V20       0.020090\n",
      "V19       0.034783\n",
      "V21       0.040413\n",
      "V6        0.043643\n",
      "V2        0.091289\n",
      "V5        0.094974\n",
      "V9        0.097733\n",
      "V1        0.101347\n",
      "V18       0.111485\n",
      "V4        0.133447\n",
      "V11       0.154876\n",
      "V7        0.187257\n",
      "V3        0.192961\n",
      "V16       0.196539\n",
      "V10       0.216883\n",
      "V12       0.260593\n",
      "V14       0.302544\n",
      "V17       0.326481\n",
      "Class     1.000000\n",
      "Name: Class, dtype: float64\n"
     ]
    }
   ],
   "source": [
    "corre = df.corr()['Class'].abs().sort_values()\n",
    "print(corre)"
   ]
  },
  {
   "cell_type": "markdown",
   "metadata": {},
   "source": [
    "# Source Code\n",
    "\n",
    "## Choose attributes for training\n",
    "\n",
    "We choose the columns based on correlation values. In this model, 10 chosen columns are Class, V17, V14, V12, V10, V16, V3, V7, V11, V4."
   ]
  },
  {
   "cell_type": "code",
   "execution_count": 12,
   "metadata": {},
   "outputs": [],
   "source": [
    "dataset = df.drop(columns = ['Class', 'V22', 'V23', 'V25', 'V15', 'V26', 'V13', 'Amount', 'V24', 'V28', 'Time', 'V27', 'V8', 'V20', 'V19', 'V21', 'V6', 'V2', 'V5', 'V9', 'V1', 'V18'])\n",
    "label = df['Class']"
   ]
  },
  {
   "cell_type": "markdown",
   "metadata": {},
   "source": [
    "Deviding dataset into 2 paths, namedly break and test. With break dataset, we devided into 2 path is train and validation.\n",
    "\n",
    "The range of each attribute is difference, so we using z-score to normalize the data."
   ]
  },
  {
   "cell_type": "code",
   "execution_count": 13,
   "metadata": {},
   "outputs": [],
   "source": [
    "X_break, X_test, y_break, y_test = train_test_split(dataset, label, test_size = 0.2, \n",
    "                                                    stratify = df['Class'], random_state = 42)\n",
    "\n",
    "X_train, X_val, y_train, y_val = train_test_split(X_break, y_break, test_size = 0.25, \n",
    "                                                  stratify = y_break, random_state = 42)\n",
    "# Initialize fit StandardScaler\n",
    "std_scale = StandardScaler().fit(X_train)\n",
    "\n",
    "# Scale data\n",
    "X_train_std = std_scale.transform(X_train)\n",
    "X_val_std = std_scale.transform(X_val)\n",
    "X_test_std = std_scale.transform(X_test)"
   ]
  },
  {
   "cell_type": "markdown",
   "metadata": {},
   "source": [
    "According to [https://imbalanced-learn.readthedocs.io/en/stable/generated/imblearn.under_sampling.RandomUnderSampler.html]:\n",
    "\n",
    "`class imblearn.under_sampling.RandomUnderSampler(sampling_strategy='auto', return_indices=False, random_state=None, replacement=False, ratio=None)`: Class to perform random under-sampling. Under-sample the majority class(es) by randomly picking samples with or without replacement.\n"
   ]
  },
  {
   "cell_type": "code",
   "execution_count": 14,
   "metadata": {},
   "outputs": [],
   "source": [
    "X_train_under, y_train_under = RandomUnderSampler(random_state = 42).fit_sample(X_train_std,y_train)\n",
    "X_val_under, y_val_under = RandomUnderSampler(random_state = 42).fit_sample(X_val_std,y_val)"
   ]
  },
  {
   "cell_type": "markdown",
   "metadata": {},
   "source": [
    "## Training models\n",
    "\n",
    "### Logistic regression\n",
    "\n",
    "**According to [https://numpy.org/doc/stable/reference/generated/numpy.logspace.html]:**\n",
    "\n",
    "`numpy.logspace(start, stop, num=50, endpoint=True, base=10.0, dtype=None, axis=0)`: Return numbers spaced evenly on a log scale.\n",
    "\n",
    "\n",
    "**According to [https://scikit-learn.org/stable/modules/generated/sklearn.linear_model.LogisticRegression.html]:**\n",
    "\n",
    "`class sklearn.linear_model.LogisticRegression(penalty='l2', C=1.0, solver='lbfgs', max_iter=100)`: Logistic Regression classifier.\n",
    "\n",
    "*Parameters:*\n",
    "\n",
    "- `penalty: {‘l1’, ‘l2’, ‘elasticnet’, ‘none’}, default='l2'`: Used to specify the norm used in the penalization. \n",
    "- `C: float, default=1.0`: Inverse of regularization strength (positive float)\n",
    "- `solver: {‘newton-cg’, ‘lbfgs’, ‘liblinear’, ‘sag’, ‘saga’}, default='lbfgs'`: Algorithm to use in the optimization problem.\n",
    "- `max_iter: int, default=100`: Maximum number of iterations taken for the solvers to converge.\n",
    "\n",
    "**According to [https://scikit-learn.org/stable/modules/generated/sklearn.model_selection.GridSearchCV.html]**:\n",
    "\n",
    "`class sklearn.model_selection.GridSearchCV(estimator, param_grid, scoring=None, n_jobs=None, cv=None, verbose=0)`: Exhaustive search over specified parameter values for an estimator.\n",
    "\n",
    "*Parameters:*\n",
    "\n",
    "- `estimator: estimator object.`: This is assumed to implement the scikit-learn estimator interface.\n",
    "- `param_grid: dict or list of dictionaries`\n",
    "- `scoring: str, callable, list/tuple or dict, default=None`: A single str or a callable to evaluate the predictions on the test set.\n",
    "- `n_jobs: int, default=None`: Number of jobs to run in parallel.\n",
    "- `cv: int, cross-validation generator or an iterable, default=None`: Determines the cross-validation splitting strategy.\n",
    "- `verbose: integer`: Controls the verbosity: the higher, the more messages."
   ]
  },
  {
   "cell_type": "code",
   "execution_count": 15,
   "metadata": {},
   "outputs": [
    {
     "name": "stdout",
     "output_type": "stream",
     "text": [
      "Fitting 5 folds for each of 10 candidates, totalling 50 fits\n"
     ]
    },
    {
     "name": "stderr",
     "output_type": "stream",
     "text": [
      "[Parallel(n_jobs=-1)]: Using backend LokyBackend with 8 concurrent workers.\n",
      "[Parallel(n_jobs=-1)]: Done   2 tasks      | elapsed:    2.4s\n",
      "[Parallel(n_jobs=-1)]: Done   9 tasks      | elapsed:    2.5s\n",
      "[Parallel(n_jobs=-1)]: Done  16 tasks      | elapsed:    2.5s\n",
      "[Parallel(n_jobs=-1)]: Done  25 tasks      | elapsed:    2.6s\n",
      "[Parallel(n_jobs=-1)]: Done  34 tasks      | elapsed:    2.6s\n",
      "[Parallel(n_jobs=-1)]: Batch computation too fast (0.1810s.) Setting batch_size=2.\n",
      "[Parallel(n_jobs=-1)]: Done  41 out of  50 | elapsed:    2.6s remaining:    0.5s\n",
      "[Parallel(n_jobs=-1)]: Done  47 out of  50 | elapsed:    2.6s remaining:    0.1s\n",
      "[Parallel(n_jobs=-1)]: Done  50 out of  50 | elapsed:    2.6s finished\n"
     ]
    },
    {
     "data": {
      "text/plain": [
       "GridSearchCV(cv=5, error_score=nan,\n",
       "             estimator=LogisticRegression(C=1.0, class_weight=None, dual=False,\n",
       "                                          fit_intercept=True,\n",
       "                                          intercept_scaling=1, l1_ratio=None,\n",
       "                                          max_iter=10000, multi_class='auto',\n",
       "                                          n_jobs=None, penalty='l2',\n",
       "                                          random_state=None, solver='lbfgs',\n",
       "                                          tol=0.0001, verbose=0,\n",
       "                                          warm_start=False),\n",
       "             iid='deprecated', n_jobs=-1,\n",
       "             param_grid={'C': array([1.00000000e+00, 2.15443469e+01, 4.64158883e+02, 1.00000000e+04,\n",
       "       2.15443469e+05, 4.64158883e+06, 1.00000000e+08, 2.15443469e+09,\n",
       "       4.64158883e+10, 1.00000000e+12]),\n",
       "                         'penalty': ['l2']},\n",
       "             pre_dispatch='2*n_jobs', refit=True, return_train_score=False,\n",
       "             scoring='roc_auc', verbose=10)"
      ]
     },
     "execution_count": 15,
     "metadata": {},
     "output_type": "execute_result"
    }
   ],
   "source": [
    "# Run CV with 5 folds (logit)\n",
    "\n",
    "penalty = ['l2']\n",
    "C = np.logspace(0, 4, 10, 100, 1000)\n",
    "param_grid = dict(C = C, penalty = penalty)\n",
    "\n",
    "logistic = linear_model.LogisticRegression(solver = 'lbfgs', max_iter = 10000)\n",
    "logistic_grid = GridSearchCV(logistic, param_grid, cv = 5, scoring = 'roc_auc', \n",
    "                             verbose = 10, n_jobs = -1)\n",
    "logistic_grid.fit(X_train_under, y_train_under)"
   ]
  },
  {
   "cell_type": "markdown",
   "metadata": {},
   "source": [
    "### Naive Bayes Model\n",
    "\n",
    "**According to [https://scikit-learn.org/stable/modules/generated/sklearn.naive_bayes.GaussianNB.html]:**\n",
    "\n",
    "`class sklearn.naive_bayes.GaussianNB(*, priors=None, var_smoothing=1e-09)`\n",
    "\n",
    "*Parameters:*\n",
    "\n",
    "- `priorsarray-like of shape (n_classes,)`: Prior probabilities of the classes. If specified the priors are not adjusted according to the data.\n",
    "- `var_smoothingfloat, default=1e-9`: Portion of the largest variance of all features that is added to variances for calculation stability."
   ]
  },
  {
   "cell_type": "code",
   "execution_count": 16,
   "metadata": {},
   "outputs": [],
   "source": [
    "gnb = GaussianNB()\n",
    "gnb_model = gnb.fit(X_train_under, y_train_under)"
   ]
  },
  {
   "cell_type": "markdown",
   "metadata": {},
   "source": [
    "### Training n epochs to find best threshold\n",
    "\n",
    "**According to [https://numpy.org/doc/stable/reference/generated/numpy.linspace.html]:**\n",
    "\n",
    "`numpy.linspace(start, stop, num=50)`: Return evenly spaced numbers over a specified interval.\n",
    "\n",
    "With each threshold generated from `np.linspace()` function, using validation dataset to predict and get the threshold that has the highest accuracy `acc`."
   ]
  },
  {
   "cell_type": "code",
   "execution_count": 17,
   "metadata": {},
   "outputs": [],
   "source": [
    "def find_best_threshold(model, int_num_steps):\n",
    "    highest_acc = 0\n",
    "    best_threshold = 0\n",
    "    for threshold in np.linspace(0, 1, int_num_steps):\n",
    "        y_predict = np.round(model.predict_proba(X_val_under)[:, 1] >= threshold)\n",
    "        f1 = f1_score(y_val_under, y_predict)\n",
    "        acc = accuracy_score(y_val_under,y_predict)\n",
    "        rec = recall_score(y_val_under,y_predict)\n",
    "        pre = precision_score(y_val_under,y_predict)\n",
    "        \n",
    "        if acc > highest_acc:\n",
    "            best_threshold, best_f1, highest_acc, best_rec, best_pre = threshold, f1, acc, rec, pre\n",
    "    return best_threshold, highest_acc, best_f1, best_rec, best_pre"
   ]
  },
  {
   "cell_type": "markdown",
   "metadata": {},
   "source": [
    "With each model, we find the best threshold to predict the label for testing data."
   ]
  },
  {
   "cell_type": "code",
   "execution_count": 18,
   "metadata": {},
   "outputs": [],
   "source": [
    "models = [logistic_grid, gnb_model]\n",
    "model_names = [\"Logistic Regression\", \"Naive-Bayes\"]\n",
    "chart = list()\n",
    "for item, name in zip(models, model_names):\n",
    "    best_thresh, high_acc, high_f1, high_rec, high_pre = find_best_threshold(item, 20)\n",
    "    chart.append([name, best_thresh, high_acc, high_f1, high_rec, high_pre])"
   ]
  },
  {
   "cell_type": "code",
   "execution_count": 19,
   "metadata": {},
   "outputs": [],
   "source": [
    "chart = pd.DataFrame(chart, columns = ['Model', 'Best Threshhold','Accuracy','F1 Score','Recall','Precision'])"
   ]
  },
  {
   "cell_type": "code",
   "execution_count": 20,
   "metadata": {
    "scrolled": false
   },
   "outputs": [
    {
     "name": "stdout",
     "output_type": "stream",
     "text": [
      "Correlation > 0.12\n"
     ]
    },
    {
     "data": {
      "text/html": [
       "<div>\n",
       "<style scoped>\n",
       "    .dataframe tbody tr th:only-of-type {\n",
       "        vertical-align: middle;\n",
       "    }\n",
       "\n",
       "    .dataframe tbody tr th {\n",
       "        vertical-align: top;\n",
       "    }\n",
       "\n",
       "    .dataframe thead th {\n",
       "        text-align: right;\n",
       "    }\n",
       "</style>\n",
       "<table border=\"1\" class=\"dataframe\">\n",
       "  <thead>\n",
       "    <tr style=\"text-align: right;\">\n",
       "      <th></th>\n",
       "      <th>Model</th>\n",
       "      <th>Best Threshhold</th>\n",
       "      <th>Accuracy</th>\n",
       "      <th>F1 Score</th>\n",
       "      <th>Recall</th>\n",
       "      <th>Precision</th>\n",
       "    </tr>\n",
       "  </thead>\n",
       "  <tbody>\n",
       "    <tr>\n",
       "      <th>0</th>\n",
       "      <td>Logistic Regression</td>\n",
       "      <td>0.263158</td>\n",
       "      <td>0.934343</td>\n",
       "      <td>0.932642</td>\n",
       "      <td>0.909091</td>\n",
       "      <td>0.957447</td>\n",
       "    </tr>\n",
       "    <tr>\n",
       "      <th>1</th>\n",
       "      <td>Naive-Bayes</td>\n",
       "      <td>0.894737</td>\n",
       "      <td>0.909091</td>\n",
       "      <td>0.902174</td>\n",
       "      <td>0.838384</td>\n",
       "      <td>0.976471</td>\n",
       "    </tr>\n",
       "  </tbody>\n",
       "</table>\n",
       "</div>"
      ],
      "text/plain": [
       "                 Model  Best Threshhold  Accuracy  F1 Score    Recall  \\\n",
       "0  Logistic Regression         0.263158  0.934343  0.932642  0.909091   \n",
       "1          Naive-Bayes         0.894737  0.909091  0.902174  0.838384   \n",
       "\n",
       "   Precision  \n",
       "0   0.957447  \n",
       "1   0.976471  "
      ]
     },
     "execution_count": 20,
     "metadata": {},
     "output_type": "execute_result"
    }
   ],
   "source": [
    "print(\"Correlation > 0.12\")\n",
    "chart"
   ]
  },
  {
   "cell_type": "code",
   "execution_count": 21,
   "metadata": {},
   "outputs": [
    {
     "data": {
      "image/png": "[encoded data removed]",
      "text/plain": [
       "<Figure size 432x288 with 1 Axes>"
      ]
     },
     "metadata": {},
     "output_type": "display_data"
    }
   ],
   "source": [
    "x = ['> 0.01', '> 0.05', '> 0.1', '> 0.11', '> 0.12', '> 0.14']\n",
    "acc_lr_val = [0.929293, 0.929293, 0.929293, 0.934343, 0.934343, 0.90404]\n",
    "acc_nb_val = [0.888889, 0.909091, 0.914141, 0.914141, 0.909091, 0.90404]\n",
    "\n",
    "plt.title(\"Accuracy with different chosen attributes (on validation dataset)\")\n",
    "plt.plot(x,acc_lr_val, color = \"red\")\n",
    "plt.plot(x,acc_nb_val, color = \"blue\")\n",
    "plt.show()"
   ]
  },
  {
   "cell_type": "markdown",
   "metadata": {},
   "source": [
    "## Testing\n",
    "\n",
    "Predict the label (fraud/not fraud) for each model based on threshold. The default threshold is 0.5."
   ]
  },
  {
   "cell_type": "code",
   "execution_count": 22,
   "metadata": {},
   "outputs": [],
   "source": [
    "def testing_func(model, threshold = 0.5):\n",
    "    y_predict = (model.predict_proba(X_test_std)[:, 1] >= threshold)\n",
    "    fraud_confusion = confusion_matrix(y_test, y_predict)\n",
    "    return fraud_confusion"
   ]
  },
  {
   "cell_type": "code",
   "execution_count": 23,
   "metadata": {},
   "outputs": [],
   "source": [
    "def calculate_acc(fraud_confusion):\n",
    "    return (fraud_confusion[0][0] + fraud_confusion[1][1])/len(y_test)"
   ]
  },
  {
   "cell_type": "code",
   "execution_count": 24,
   "metadata": {},
   "outputs": [],
   "source": [
    "def make_confusion_matrix_test(fraud_confusion):\n",
    "    plt.figure(dpi = 100)\n",
    "    sns.set(font_scale = 1)\n",
    "    sns.heatmap(fraud_confusion, cmap = plt.cm.Blues, annot = True, square = True, fmt = 'd', xticklabels = ['Not Fraud', 'Fraud'], yticklabels = ['Not Fraud', 'Fraud']);\n",
    "    TP = fraud_confusion[0][0]\n",
    "    FP = fraud_confusion[0][1]\n",
    "    FN = fraud_confusion[1][0]\n",
    "    TN = fraud_confusion[1][1]\n",
    "    plt.yticks(rotation = 0)\n",
    "    plt.title('Predicted vs. Actual');\n",
    "    plt.xlabel('Predicted')\n",
    "    plt.ylabel('Actual')\n",
    "    plt.show()"
   ]
  },
  {
   "cell_type": "code",
   "execution_count": 25,
   "metadata": {},
   "outputs": [
    {
     "name": "stdout",
     "output_type": "stream",
     "text": [
      "Accuracy of logistic regression model: 0.9393981952880868\n"
     ]
    },
    {
     "data": {
      "image/png": "[encoded data removed]",
      "text/plain": [
       "<Figure size 600x400 with 2 Axes>"
      ]
     },
     "metadata": {},
     "output_type": "display_data"
    }
   ],
   "source": [
    "fraud_confusion_lr = testing_func(logistic_grid, 0.263158)\n",
    "acc_lr = calculate_acc(fraud_confusion_lr)\n",
    "print(\"Accuracy of logistic regression model: \" + str(acc_lr))\n",
    "make_confusion_matrix_test(fraud_confusion_lr)"
   ]
  },
  {
   "cell_type": "code",
   "execution_count": 26,
   "metadata": {},
   "outputs": [
    {
     "name": "stdout",
     "output_type": "stream",
     "text": [
      "Accuracy of Naive Bayes model: 0.9841999929777746\n"
     ]
    },
    {
     "data": {
      "image/png": "[encoded data removed]",
      "text/plain": [
       "<Figure size 600x400 with 2 Axes>"
      ]
     },
     "metadata": {},
     "output_type": "display_data"
    }
   ],
   "source": [
    "fraud_confusion_nb = testing_func(gnb_model, 0.894737)\n",
    "acc_nb = calculate_acc(fraud_confusion_nb)\n",
    "print(\"Accuracy of Naive Bayes model: \" + str(acc_nb))\n",
    "make_confusion_matrix_test(fraud_confusion_nb)"
   ]
  },
  {
   "cell_type": "markdown",
   "metadata": {},
   "source": [
    "# Result"
   ]
  },
  {
   "cell_type": "code",
   "execution_count": 27,
   "metadata": {},
   "outputs": [
    {
     "name": "stdout",
     "output_type": "stream",
     "text": [
      "Some information for two models\n"
     ]
    },
    {
     "data": {
      "text/html": [
       "<div>\n",
       "<style scoped>\n",
       "    .dataframe tbody tr th:only-of-type {\n",
       "        vertical-align: middle;\n",
       "    }\n",
       "\n",
       "    .dataframe tbody tr th {\n",
       "        vertical-align: top;\n",
       "    }\n",
       "\n",
       "    .dataframe thead th {\n",
       "        text-align: right;\n",
       "    }\n",
       "</style>\n",
       "<table border=\"1\" class=\"dataframe\">\n",
       "  <thead>\n",
       "    <tr style=\"text-align: right;\">\n",
       "      <th></th>\n",
       "      <th>Model</th>\n",
       "      <th>Best Threshhold</th>\n",
       "      <th>Accuracy</th>\n",
       "      <th>F1 Score</th>\n",
       "      <th>Recall</th>\n",
       "      <th>Precision</th>\n",
       "    </tr>\n",
       "  </thead>\n",
       "  <tbody>\n",
       "    <tr>\n",
       "      <th>0</th>\n",
       "      <td>Logistic Regression</td>\n",
       "      <td>0.263158</td>\n",
       "      <td>0.934343</td>\n",
       "      <td>0.932642</td>\n",
       "      <td>0.909091</td>\n",
       "      <td>0.957447</td>\n",
       "    </tr>\n",
       "    <tr>\n",
       "      <th>1</th>\n",
       "      <td>Naive-Bayes</td>\n",
       "      <td>0.894737</td>\n",
       "      <td>0.909091</td>\n",
       "      <td>0.902174</td>\n",
       "      <td>0.838384</td>\n",
       "      <td>0.976471</td>\n",
       "    </tr>\n",
       "  </tbody>\n",
       "</table>\n",
       "</div>"
      ],
      "text/plain": [
       "                 Model  Best Threshhold  Accuracy  F1 Score    Recall  \\\n",
       "0  Logistic Regression         0.263158  0.934343  0.932642  0.909091   \n",
       "1          Naive-Bayes         0.894737  0.909091  0.902174  0.838384   \n",
       "\n",
       "   Precision  \n",
       "0   0.957447  \n",
       "1   0.976471  "
      ]
     },
     "execution_count": 27,
     "metadata": {},
     "output_type": "execute_result"
    }
   ],
   "source": [
    "print('Some information for two models')\n",
    "chart"
   ]
  },
  {
   "cell_type": "code",
   "execution_count": 28,
   "metadata": {},
   "outputs": [
    {
     "name": "stdout",
     "output_type": "stream",
     "text": [
      "Accuracy of logistic regression model: 0.9393981952880868\n",
      "Accuracy of Naive Bayes model: 0.9841999929777746\n"
     ]
    }
   ],
   "source": [
    "print(\"Accuracy of logistic regression model: \" + str(acc_lr))\n",
    "print(\"Accuracy of Naive Bayes model: \" + str(acc_nb))"
   ]
  }
 ],
 "metadata": {
  "kernelspec": {
   "display_name": "Python 3",
   "language": "python",
   "name": "python3"
  },
  "language_info": {
   "codemirror_mode": {
    "name": "ipython",
    "version": 3
   },
   "file_extension": ".py",
   "mimetype": "text/x-python",
   "name": "python",
   "nbconvert_exporter": "python",
   "pygments_lexer": "ipython3",
   "version": "3.7.6"
  }
 },
 "nbformat": 4,
 "nbformat_minor": 4
}
